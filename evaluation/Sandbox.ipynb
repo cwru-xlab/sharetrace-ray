{
 "cells": [
  {
   "cell_type": "code",
   "execution_count": 158,
   "id": "b05b6e05",
   "metadata": {},
   "outputs": [],
   "source": [
    "import logging\n",
    "from datetime import datetime\n",
    "\n",
    "import networkx as nx\n",
    "import igraph as ig\n",
    "import numpy as np\n",
    "import pymetis\n",
    "from sklearn import cluster\n",
    "import seaborn as sns\n",
    "from matplotlib import pyplot as plt\n",
    "\n",
    "from sharetrace import propagation\n",
    "from synthetic import (\n",
    "    SocioPatternsGraphReader,\n",
    "    SocioPatternsDatasetFactory,\n",
    "    SocioPatternsContactFactory,\n",
    "    SocioPatternsScoreFactory,\n",
    "    DatasetFactory,\n",
    "    IGraph,\n",
    "    ScoreFactory,\n",
    "    UniformBernoulliValueFactory,\n",
    "    Dataset, \n",
    "    TimeFactory,\n",
    "    ContactFactory)\n",
    "\n",
    "rng = np.random.default_rng()"
   ]
  },
  {
   "cell_type": "code",
   "execution_count": 159,
   "id": "1e60d1a1",
   "metadata": {},
   "outputs": [],
   "source": [
    "def adjlist(g: ig.Graph):\n",
    "    return g.get_adjlist()\n",
    "\n",
    "\n",
    "def adjmat(g: ig.Graph):\n",
    "    return np.array(list(g.get_adjacency()))\n",
    "\n",
    "\n",
    "def metis_partition(g: ig.Graph, parts: int):\n",
    "    _, labels = pymetis.part_graph(parts, adjmat(g))\n",
    "    return np.array(labels)\n",
    "\n",
    "\n",
    "def spectral_partition(g: ig.Graph, parts: int):\n",
    "    spectral = cluster.SpectralClustering(\n",
    "        parts, affinity='precomputed', n_init=100, assign_labels='discretize')\n",
    "    return spectral.fit_predict(adjmat(g))\n",
    "\n",
    "def graph_factory(n):\n",
    "    return IGraph(ig.Graph.Barabasi(n, 1))\n",
    "\n",
    "def create_data(\n",
    "        users: int = 1000,\n",
    "        days: int = 15,\n",
    "        per_day: int = 16,\n",
    "        low: float = -1,\n",
    "        high: float = 1,\n",
    "        step_low: float = -0.01,\n",
    "        step_high: float = 0.01,\n",
    "        p: float = 0.2,\n",
    "        path: str = None,\n",
    "        sep: str = ' ',\n",
    "        save: bool = False) -> Dataset:\n",
    "    if path is None:\n",
    "        dataset_factory = DatasetFactory(\n",
    "            score_factory=ScoreFactory(\n",
    "                value_factory=UniformBernoulliValueFactory(per_user=days, p=p),\n",
    "                time_factory=TimeFactory(days=days, per_day=1)),\n",
    "            contact_factory=ContactFactory(\n",
    "                graph_factory=graph_factory,\n",
    "                time_factory=TimeFactory(days=days, per_day=1, random_first=True)))\n",
    "    else:\n",
    "        dataset_factory = SocioPatternsDatasetFactory(\n",
    "            score_factory=SocioPatternsScoreFactory(\n",
    "                value_factory=UniformBernoulliValueFactory(per_user=days, p=p),\n",
    "                time_factory=TimeFactory(days=days, per_day=1)),\n",
    "            contact_factory=SocioPatternsContactFactory(path=path, sep=sep))\n",
    "    return dataset_factory(users)\n",
    "\n",
    "def risk_propagation(n=1000, workers=1, dataset=None, **kwargs):\n",
    "    if dataset is None:\n",
    "        dataset = create_data(n, **kwargs)\n",
    "    scores, contacts = dataset.scores, dataset.contacts\n",
    "    rp = propagation.RiskPropagation(\n",
    "        workers=workers, \n",
    "        timeout=3 if workers > 1 else 0, \n",
    "        tol=0.3)\n",
    "    exposures = rp.run(scores, contacts)\n",
    "    print(\n",
    "        'Nodes', rp.log['Nodes'], \n",
    "        'Edges', rp.log['Edges'], \n",
    "        'Runtime', rp.log['RuntimeInSeconds'], \n",
    "        'Messages', rp.log['Messages'],\n",
    "        'Updates', rp.log['Updates'])\n",
    "    symptoms = np.array([propagation.initial(s)['val'] for s in scores])\n",
    "    return symptoms, exposures"
   ]
  },
  {
   "cell_type": "code",
   "execution_count": 160,
   "id": "392de1eb",
   "metadata": {},
   "outputs": [
    {
     "name": "stdout",
     "output_type": "stream",
     "text": [
      "Low\n",
      "Nodes 2000 Edges 1999 Runtime 6.9115 Messages 12657 Updates 238\n",
      "Nodes 2000 Edges 1999 Runtime 6.8993 Messages 12679 Updates 238\n",
      "Nodes 2000 Edges 1999 Runtime 6.9014 Messages 12657 Updates 238\n",
      "Nodes 2000 Edges 1999 Runtime 6.8834 Messages 12679 Updates 238\n",
      "Nodes 2000 Edges 1999 Runtime 6.8889 Messages 12625 Updates 238\n",
      "High\n",
      "Nodes 2000 Edges 1999 Runtime 3.1184 Messages 2314 Updates 231\n",
      "Nodes 2000 Edges 1999 Runtime 3.1094 Messages 2314 Updates 231\n",
      "Nodes 2000 Edges 1999 Runtime 3.126 Messages 2314 Updates 231\n",
      "Nodes 2000 Edges 1999 Runtime 3.1248 Messages 2314 Updates 231\n",
      "Nodes 2000 Edges 1999 Runtime 3.1176 Messages 2314 Updates 231\n"
     ]
    }
   ],
   "source": [
    "dataset = create_data(2000, p=0.1, days=15)\n",
    "print('Low')\n",
    "for _ in range(5):\n",
    "    sym, exp = risk_propagation(workers=4, dataset=dataset)\n",
    "\n",
    "dataset = create_data(2000, p=0.6, days=15)\n",
    "print('High')\n",
    "for _ in range(5):\n",
    "    sym, exp = risk_propagation(workers=4, dataset=dataset)"
   ]
  },
  {
   "cell_type": "code",
   "execution_count": 85,
   "id": "8a6d1671",
   "metadata": {},
   "outputs": [
    {
     "ename": "NameError",
     "evalue": "name 'sym' is not defined",
     "output_type": "error",
     "traceback": [
      "\u001b[0;31m---------------------------------------------------------------------------\u001b[0m",
      "\u001b[0;31mNameError\u001b[0m                                 Traceback (most recent call last)",
      "\u001b[0;32m/var/folders/kj/x3ycwb4j2wlcsz77j1h52_s40000gn/T/ipykernel_4578/950031782.py\u001b[0m in \u001b[0;36m<module>\u001b[0;34m\u001b[0m\n\u001b[0;32m----> 1\u001b[0;31m \u001b[0msns\u001b[0m\u001b[0;34m.\u001b[0m\u001b[0mkdeplot\u001b[0m\u001b[0;34m(\u001b[0m\u001b[0mdata\u001b[0m\u001b[0;34m=\u001b[0m\u001b[0;34m{\u001b[0m\u001b[0;34m'Symptom'\u001b[0m\u001b[0;34m:\u001b[0m \u001b[0msym\u001b[0m\u001b[0;34m,\u001b[0m \u001b[0;34m'Exposure'\u001b[0m\u001b[0;34m:\u001b[0m \u001b[0mexp\u001b[0m\u001b[0;34m}\u001b[0m\u001b[0;34m)\u001b[0m\u001b[0;34m\u001b[0m\u001b[0;34m\u001b[0m\u001b[0m\n\u001b[0m\u001b[1;32m      2\u001b[0m \u001b[0mplt\u001b[0m\u001b[0;34m.\u001b[0m\u001b[0mshow\u001b[0m\u001b[0;34m(\u001b[0m\u001b[0;34m)\u001b[0m\u001b[0;34m\u001b[0m\u001b[0;34m\u001b[0m\u001b[0m\n",
      "\u001b[0;31mNameError\u001b[0m: name 'sym' is not defined"
     ]
    }
   ],
   "source": [
    "sns.kdeplot(data={'Symptom': sym, 'Exposure': exp})\n",
    "plt.show()"
   ]
  },
  {
   "cell_type": "code",
   "execution_count": 3,
   "id": "3b8c8b80",
   "metadata": {},
   "outputs": [],
   "source": [
    "def filter_zero_degree(g):\n",
    "    return g.subgraph(g.vs.select(_degree_gt=0))\n",
    "\n",
    "def grg_rad(n):\n",
    "    return min(1, 0.25 ** (np.log10(n) - 1))\n",
    "\n",
    "def create_grg(n):\n",
    "    g = ig.Graph.GRG(n, radius=grg_rad(n))\n",
    "    return filter_zero_degree(g)\n",
    "\n",
    "def create_barabasi(n):\n",
    "    outgoing = 1\n",
    "    g = ig.Graph.Barabasi(n, m=outgoing, power=1, zero_appeal=1)\n",
    "    return filter_zero_degree(g)\n",
    "\n",
    "def create_watts_strogatz(n, steps, p):\n",
    "    ig.Graph.Watts_Strogatz(dim=1, size=1, nei=steps, p=p)"
   ]
  },
  {
   "cell_type": "code",
   "execution_count": 157,
   "id": "ba672690",
   "metadata": {
    "pycharm": {
     "name": "#%%\n"
    }
   },
   "outputs": [
    {
     "ename": "KeyboardInterrupt",
     "evalue": "",
     "output_type": "error",
     "traceback": [
      "\u001b[0;31m---------------------------------------------------------------------------\u001b[0m",
      "\u001b[0;31mKeyboardInterrupt\u001b[0m                         Traceback (most recent call last)",
      "\u001b[0;32m/var/folders/kj/x3ycwb4j2wlcsz77j1h52_s40000gn/T/ipykernel_18709/2506285129.py\u001b[0m in \u001b[0;36m<module>\u001b[0;34m\u001b[0m\n\u001b[1;32m      5\u001b[0m \u001b[0;31m# graph = nx.generators.powerlaw_cluster_graph(4000, 2, 0.95)\u001b[0m\u001b[0;34m\u001b[0m\u001b[0;34m\u001b[0m\u001b[0m\n\u001b[1;32m      6\u001b[0m \u001b[0;31m# graph = nx.generators.relaxed_caveman_graph(l=1000, k=10, p=0.01)\u001b[0m\u001b[0;34m\u001b[0m\u001b[0;34m\u001b[0m\u001b[0m\n\u001b[0;32m----> 7\u001b[0;31m graph = nx.generators.LFR_benchmark_graph(\n\u001b[0m\u001b[1;32m      8\u001b[0m     \u001b[0mn\u001b[0m\u001b[0;34m=\u001b[0m\u001b[0;36m1_000_000\u001b[0m\u001b[0;34m,\u001b[0m\u001b[0;34m\u001b[0m\u001b[0;34m\u001b[0m\u001b[0m\n\u001b[1;32m      9\u001b[0m     \u001b[0mtau1\u001b[0m\u001b[0;34m=\u001b[0m\u001b[0;36m3\u001b[0m\u001b[0;34m,\u001b[0m\u001b[0;34m\u001b[0m\u001b[0;34m\u001b[0m\u001b[0m\n",
      "\u001b[0;32m~/.conda/envs/contact-tracing/lib/python3.9/site-packages/networkx/utils/decorators.py\u001b[0m in \u001b[0;36margmap_LFR_benchmark_graph_14\u001b[0;34m(n, tau1, tau2, mu, average_degree, min_degree, max_degree, min_community, max_community, tol, max_iters, seed)\u001b[0m\n\u001b[1;32m      2\u001b[0m \u001b[0;32mfrom\u001b[0m \u001b[0mos\u001b[0m\u001b[0;34m.\u001b[0m\u001b[0mpath\u001b[0m \u001b[0;32mimport\u001b[0m \u001b[0msplitext\u001b[0m\u001b[0;34m\u001b[0m\u001b[0;34m\u001b[0m\u001b[0m\n\u001b[1;32m      3\u001b[0m \u001b[0;32mfrom\u001b[0m \u001b[0mcontextlib\u001b[0m \u001b[0;32mimport\u001b[0m \u001b[0mcontextmanager\u001b[0m\u001b[0;34m\u001b[0m\u001b[0;34m\u001b[0m\u001b[0m\n\u001b[0;32m----> 4\u001b[0;31m \u001b[0;32mfrom\u001b[0m \u001b[0mpathlib\u001b[0m \u001b[0;32mimport\u001b[0m \u001b[0mPath\u001b[0m\u001b[0;34m\u001b[0m\u001b[0;34m\u001b[0m\u001b[0m\n\u001b[0m\u001b[1;32m      5\u001b[0m \u001b[0;32mimport\u001b[0m \u001b[0mwarnings\u001b[0m\u001b[0;34m\u001b[0m\u001b[0;34m\u001b[0m\u001b[0m\n\u001b[1;32m      6\u001b[0m \u001b[0;34m\u001b[0m\u001b[0m\n",
      "\u001b[0;32m~/.conda/envs/contact-tracing/lib/python3.9/site-packages/networkx/generators/community.py\u001b[0m in \u001b[0;36mLFR_benchmark_graph\u001b[0;34m(n, tau1, tau2, mu, average_degree, min_degree, max_degree, min_community, max_community, tol, max_iters, seed)\u001b[0m\n\u001b[1;32m   1055\u001b[0m                 \u001b[0mG\u001b[0m\u001b[0;34m.\u001b[0m\u001b[0madd_edge\u001b[0m\u001b[0;34m(\u001b[0m\u001b[0mu\u001b[0m\u001b[0;34m,\u001b[0m \u001b[0mv\u001b[0m\u001b[0;34m)\u001b[0m\u001b[0;34m\u001b[0m\u001b[0;34m\u001b[0m\u001b[0m\n\u001b[1;32m   1056\u001b[0m             \u001b[0;32mwhile\u001b[0m \u001b[0mG\u001b[0m\u001b[0;34m.\u001b[0m\u001b[0mdegree\u001b[0m\u001b[0;34m(\u001b[0m\u001b[0mu\u001b[0m\u001b[0;34m)\u001b[0m \u001b[0;34m<\u001b[0m \u001b[0mdeg_seq\u001b[0m\u001b[0;34m[\u001b[0m\u001b[0mu\u001b[0m\u001b[0;34m]\u001b[0m\u001b[0;34m:\u001b[0m\u001b[0;34m\u001b[0m\u001b[0;34m\u001b[0m\u001b[0m\n\u001b[0;32m-> 1057\u001b[0;31m                 \u001b[0mv\u001b[0m \u001b[0;34m=\u001b[0m \u001b[0mseed\u001b[0m\u001b[0;34m.\u001b[0m\u001b[0mchoice\u001b[0m\u001b[0;34m(\u001b[0m\u001b[0mrange\u001b[0m\u001b[0;34m(\u001b[0m\u001b[0mn\u001b[0m\u001b[0;34m)\u001b[0m\u001b[0;34m)\u001b[0m\u001b[0;34m\u001b[0m\u001b[0;34m\u001b[0m\u001b[0m\n\u001b[0m\u001b[1;32m   1058\u001b[0m                 \u001b[0;32mif\u001b[0m \u001b[0mv\u001b[0m \u001b[0;32mnot\u001b[0m \u001b[0;32min\u001b[0m \u001b[0mc\u001b[0m\u001b[0;34m:\u001b[0m\u001b[0;34m\u001b[0m\u001b[0;34m\u001b[0m\u001b[0m\n\u001b[1;32m   1059\u001b[0m                     \u001b[0mG\u001b[0m\u001b[0;34m.\u001b[0m\u001b[0madd_edge\u001b[0m\u001b[0;34m(\u001b[0m\u001b[0mu\u001b[0m\u001b[0;34m,\u001b[0m \u001b[0mv\u001b[0m\u001b[0;34m)\u001b[0m\u001b[0;34m\u001b[0m\u001b[0;34m\u001b[0m\u001b[0m\n",
      "\u001b[0;32m~/.conda/envs/contact-tracing/lib/python3.9/random.py\u001b[0m in \u001b[0;36mchoice\u001b[0;34m(self, seq)\u001b[0m\n\u001b[1;32m    344\u001b[0m         \u001b[0;34m\"\"\"Choose a random element from a non-empty sequence.\"\"\"\u001b[0m\u001b[0;34m\u001b[0m\u001b[0;34m\u001b[0m\u001b[0m\n\u001b[1;32m    345\u001b[0m         \u001b[0;31m# raises IndexError if seq is empty\u001b[0m\u001b[0;34m\u001b[0m\u001b[0;34m\u001b[0m\u001b[0m\n\u001b[0;32m--> 346\u001b[0;31m         \u001b[0;32mreturn\u001b[0m \u001b[0mseq\u001b[0m\u001b[0;34m[\u001b[0m\u001b[0mself\u001b[0m\u001b[0;34m.\u001b[0m\u001b[0m_randbelow\u001b[0m\u001b[0;34m(\u001b[0m\u001b[0mlen\u001b[0m\u001b[0;34m(\u001b[0m\u001b[0mseq\u001b[0m\u001b[0;34m)\u001b[0m\u001b[0;34m)\u001b[0m\u001b[0;34m]\u001b[0m\u001b[0;34m\u001b[0m\u001b[0;34m\u001b[0m\u001b[0m\n\u001b[0m\u001b[1;32m    347\u001b[0m \u001b[0;34m\u001b[0m\u001b[0m\n\u001b[1;32m    348\u001b[0m     \u001b[0;32mdef\u001b[0m \u001b[0mshuffle\u001b[0m\u001b[0;34m(\u001b[0m\u001b[0mself\u001b[0m\u001b[0;34m,\u001b[0m \u001b[0mx\u001b[0m\u001b[0;34m,\u001b[0m \u001b[0mrandom\u001b[0m\u001b[0;34m=\u001b[0m\u001b[0;32mNone\u001b[0m\u001b[0;34m)\u001b[0m\u001b[0;34m:\u001b[0m\u001b[0;34m\u001b[0m\u001b[0;34m\u001b[0m\u001b[0m\n",
      "\u001b[0;31mKeyboardInterrupt\u001b[0m: "
     ]
    }
   ],
   "source": [
    "colors = np.array([\n",
    "    'blue', 'pink', 'green', 'brown', 'grey', 'orange', 'purple', 'red'])\n",
    "\n",
    "# g = SocioPatternsGraphReader().read('/Users/rtatton/Downloads/tij_SFHH.dat_')\n",
    "# graph = nx.generators.powerlaw_cluster_graph(4000, 2, 0.95)\n",
    "# graph = nx.generators.relaxed_caveman_graph(l=1000, k=10, p=0.01)\n",
    "graph = nx.generators.LFR_benchmark_graph(\n",
    "    n=1_000_000, \n",
    "    tau1=3,\n",
    "    tau2=2,\n",
    "    mu=0.1,\n",
    "    min_degree=3,\n",
    "    max_degree=50,\n",
    "    min_community=10,\n",
    "    max_community=100)\n",
    "graph = ig.Graph.from_networkx(graph)\n",
    "# graph = create_grg(1000)\n",
    "# graph = create_barabasi(10000)\n",
    "\n",
    "# graph = graph.subgraph(graph.vs.select(_degree_gt=0))\n",
    "# labels = spectral_partition(graph, 3)\n",
    "# ig.plot(\n",
    "#     graph,\n",
    "#     layout=graph.layout_auto(),\n",
    "#     vertex_color=list(colors[labels]),\n",
    "#     vertex_size=3,\n",
    "#     bbox=(400, 400),\n",
    "#     margin=5)"
   ]
  },
  {
   "cell_type": "markdown",
   "id": "13dcdaac",
   "metadata": {},
   "source": [
    "#### "
   ]
  },
  {
   "cell_type": "code",
   "execution_count": null,
   "id": "37ad7e23",
   "metadata": {},
   "outputs": [],
   "source": [
    "graph.write_graphml('test_graph.graphml')"
   ]
  },
  {
   "cell_type": "code",
   "execution_count": null,
   "id": "23074dcb",
   "metadata": {},
   "outputs": [],
   "source": []
  }
 ],
 "metadata": {
  "kernelspec": {
   "display_name": "Python 3 (ipykernel)",
   "language": "python",
   "name": "python3"
  },
  "language_info": {
   "codemirror_mode": {
    "name": "ipython",
    "version": 3
   },
   "file_extension": ".py",
   "mimetype": "text/x-python",
   "name": "python",
   "nbconvert_exporter": "python",
   "pygments_lexer": "ipython3",
   "version": "3.9.7"
  }
 },
 "nbformat": 4,
 "nbformat_minor": 5
}
